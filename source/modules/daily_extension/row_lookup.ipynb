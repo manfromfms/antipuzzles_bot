{
 "cells": [
  {
   "cell_type": "code",
   "execution_count": 17,
   "id": "3c43961f",
   "metadata": {},
   "outputs": [
    {
     "name": "stdout",
     "output_type": "stream",
     "text": [
      "[0, 0, 1, 1, 1, 1, 2, 2, 2, 2, 2, 2, 2, 3, 3, 3, 3, 3, 3, 3, 3, 3, 3, 3, 3, 4, 4, 4, 4, 4, 4, 4, 4, 4, 4, 4, 4, 4, 4, 4, 4, 4, 4, 4, 4, 4, 4, 4, 5, 5, 5, 5, 5, 5, 5, 5, 5, 5, 5, 5, 5, 5, 5, 5, 5, 5, 5, 5, 5, 5, 5, 5, 5, 5, 5, 5, 5, 5, 5, 5, 5, 5, 5, 5, 5, 5, 5, 5, 5, 5, 5, 5, 5, 5, 6, 6, 6, 6, 6, 6]\n"
     ]
    }
   ],
   "source": [
    "result = []\n",
    "\n",
    "for n in range(100):\n",
    "    n = float(n)\n",
    "    p = 1\n",
    "    x = 0\n",
    "    while True:\n",
    "        if 1 - (1 - 1 / 2**(x + 1)) ** (n - x) < .75:\n",
    "            \n",
    "            break\n",
    "\n",
    "        p = 1 - (1 - 1 / 2**(x + 1)) ** (n - x)\n",
    "        x += 1\n",
    "\n",
    "    result.append(x)\n",
    "\n",
    "print(result)"
   ]
  }
 ],
 "metadata": {
  "kernelspec": {
   "display_name": ".venv",
   "language": "python",
   "name": "python3"
  },
  "language_info": {
   "codemirror_mode": {
    "name": "ipython",
    "version": 3
   },
   "file_extension": ".py",
   "mimetype": "text/x-python",
   "name": "python",
   "nbconvert_exporter": "python",
   "pygments_lexer": "ipython3",
   "version": "3.13.7"
  }
 },
 "nbformat": 4,
 "nbformat_minor": 5
}
