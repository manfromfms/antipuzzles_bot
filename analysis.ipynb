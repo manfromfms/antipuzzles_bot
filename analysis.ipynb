{
 "cells": [
  {
   "cell_type": "code",
   "execution_count": null,
   "id": "c005d09b",
   "metadata": {},
   "outputs": [],
   "source": [
    "import sqlite3\n",
    "import pandas as pd\n",
    "import matplotlib.pyplot as plt\n",
    "\n",
    "db_path = 'puzzles.db'\n",
    "conn = sqlite3.connect(db_path)"
   ]
  },
  {
   "cell_type": "code",
   "execution_count": null,
   "id": "57777ff2",
   "metadata": {},
   "outputs": [],
   "source": [
    "query = \"SELECT length FROM solutions;\"\n",
    "df = pd.read_sql_query(query, conn)\n",
    "\n",
    "length_counts = df['length'].value_counts().sort_index()"
   ]
  },
  {
   "cell_type": "code",
   "execution_count": null,
   "id": "ece4d248",
   "metadata": {},
   "outputs": [],
   "source": [
    "plt.figure(figsize=(12, 6))\n",
    "\n",
    "total = length_counts.sum()\n",
    "length_percent = (length_counts / total) * 100\n",
    "\n",
    "bars = plt.bar(length_percent.index, length_percent.values)  # type: ignore\n",
    "\n",
    "plt.title(f'Распределение длин решений (всего {total} решений)', pad=20, fontsize=14)\n",
    "plt.xlabel('Длина решений (шаги)', fontsize=12, labelpad=10)\n",
    "plt.ylabel('Процент решений (%)', fontsize=12, labelpad=10)\n",
    "plt.grid(axis='y', alpha=0.75)\n",
    "\n",
    "for bar in bars:\n",
    "    height = bar.get_height()\n",
    "    plt.text(bar.get_x() + bar.get_width()/2., height,\n",
    "             f'{height:.2f}%',\n",
    "             ha='center', \n",
    "             va='bottom',\n",
    "             fontsize=9)\n",
    "\n",
    "plt.xticks(\n",
    "    length_percent.index,\n",
    "    fontsize=10\n",
    ")\n",
    "\n",
    "plt.yticks(fontsize=10)\n",
    "plt.tight_layout()\n",
    "plt.show()"
   ]
  }
 ],
 "metadata": {
  "kernelspec": {
   "display_name": ".venv",
   "language": "python",
   "name": "python3"
  },
  "language_info": {
   "codemirror_mode": {
    "name": "ipython",
    "version": 3
   },
   "file_extension": ".py",
   "mimetype": "text/x-python",
   "name": "python",
   "nbconvert_exporter": "python",
   "pygments_lexer": "ipython3",
   "version": "3.13.3"
  }
 },
 "nbformat": 4,
 "nbformat_minor": 5
}
