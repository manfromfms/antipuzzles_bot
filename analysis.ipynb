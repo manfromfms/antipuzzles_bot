{
 "cells": [
  {
   "cell_type": "code",
   "execution_count": null,
   "id": "c005d09b",
   "metadata": {},
   "outputs": [],
   "source": [
    "import sqlite3\n",
    "import pandas as pd\n",
    "import matplotlib.pyplot as plt\n",
    "import numpy as np\n",
    "\n",
    "db_path = 'puzzles.db'\n",
    "conn = sqlite3.connect(db_path)"
   ]
  },
  {
   "cell_type": "code",
   "execution_count": null,
   "id": "57777ff2",
   "metadata": {},
   "outputs": [],
   "source": [
    "query = \"SELECT length FROM solutions;\"\n",
    "df = pd.read_sql_query(query, conn)\n",
    "\n",
    "length_counts = df['length'].value_counts().sort_index()"
   ]
  },
  {
   "cell_type": "code",
   "execution_count": null,
   "id": "ece4d248",
   "metadata": {},
   "outputs": [],
   "source": [
    "plt.figure(figsize=(12, 6))\n",
    "\n",
    "total = length_counts.sum()\n",
    "length_percent = (length_counts / total) * 100\n",
    "\n",
    "bars = plt.bar(length_percent.index, length_percent.values)  # type: ignore\n",
    "\n",
    "plt.title(f'Распределение длин решений (всего {total} решений)', pad=20, fontsize=14)\n",
    "plt.xlabel('Длина решений (шаги)', fontsize=12, labelpad=10)\n",
    "plt.ylabel('Процент решений (%)', fontsize=12, labelpad=10)\n",
    "plt.grid(axis='y', alpha=0.75)\n",
    "\n",
    "for bar in bars:\n",
    "    height = bar.get_height()\n",
    "    plt.text(bar.get_x() + bar.get_width()/2., height,\n",
    "             f'{height:.2f}%',\n",
    "             ha='center', \n",
    "             va='bottom',\n",
    "             fontsize=9)\n",
    "\n",
    "plt.xticks(\n",
    "    length_percent.index,\n",
    "    fontsize=10\n",
    ")\n",
    "\n",
    "plt.yticks(fontsize=10)\n",
    "plt.tight_layout()\n",
    "plt.show()"
   ]
  },
  {
   "cell_type": "code",
   "execution_count": null,
   "id": "711b7984",
   "metadata": {},
   "outputs": [],
   "source": [
    "cursor = conn.cursor()\n",
    "\n",
    "cursor.execute('''\n",
    "    SELECT elo FROM puzzles WHERE elo != 1000\n",
    "''')\n",
    "\n",
    "data = cursor.fetchall()\n",
    "data = [i[0] for i in data]\n",
    "\n",
    "print('Average:', np.average(data))\n",
    "\n",
    "fig, ((ax1, ax2), (ax3, ax4)) = plt.subplots(2,2)\n",
    "\n",
    "ax = [ax1, ax2, ax3, ax4]\n",
    "b = [10, 20, 40, 80]\n",
    "\n",
    "\n",
    "for i in range(len(ax)):\n",
    "    a = ax[i]\n",
    "    bins = b[i]\n",
    "    a.hist(data, bins=bins)\n",
    "    a.set_title(f'По {bins} корзинам')\n",
    "\n",
    "plt.suptitle('Распределение рейтингов задач')\n",
    "fig.tight_layout()\n",
    "fig.subplots_adjust(top=.88)\n",
    "\n",
    "plt.show()"
   ]
  },
  {
   "cell_type": "code",
   "execution_count": null,
   "id": "8bec2a05",
   "metadata": {},
   "outputs": [],
   "source": [
    "cursor = conn.cursor()\n",
    "\n",
    "cursor.execute('''\n",
    "    SELECT \n",
    "        u.nickname,\n",
    "        COUNT(p.userId) as play_count\n",
    "    FROM users u\n",
    "    LEFT JOIN played p ON p.userId = u.id\n",
    "    GROUP BY u.id, u.nickname\n",
    "    ORDER BY u.nickname;\n",
    "''')\n",
    "\n",
    "data = cursor.fetchall()\n",
    "\n",
    "users = [i[0] for i in data]\n",
    "puzzles = [i[1] for i in data]\n",
    "\n",
    "plt.barh(users, puzzles)\n",
    "\n",
    "plt.title('Число решенных задач')\n",
    "\n",
    "plt.show()"
   ]
  }
 ],
 "metadata": {
  "kernelspec": {
   "display_name": ".venv",
   "language": "python",
   "name": "python3"
  },
  "language_info": {
   "codemirror_mode": {
    "name": "ipython",
    "version": 3
   },
   "file_extension": ".py",
   "mimetype": "text/x-python",
   "name": "python",
   "nbconvert_exporter": "python",
   "pygments_lexer": "ipython3",
   "version": "3.13.3"
  }
 },
 "nbformat": 4,
 "nbformat_minor": 5
}
